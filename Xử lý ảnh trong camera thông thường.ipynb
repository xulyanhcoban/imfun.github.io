{
 "cells": [
  {
   "cell_type": "markdown",
   "metadata": {},
   "source": [
    "## Camera Processing Pipeline "
   ]
  },
  {
   "cell_type": "markdown",
   "metadata": {},
   "source": [
    "Xin chào tất cả các bạn. Sau đây mình xin giới thiệu về các bước xử lý ảnh thông thường trong một chiếc camera. \n",
    "Các bước xử lý gồm có các khâu chính như sau (minh họa trong hình 1)\n",
    "1. Ngoại cảnh: Nguồn sáng, cảnh vật, \n",
    "2. Xử lý tiền máy ảnh (Pre-Camera): hệ thống ống kính (lens), cửa chụp (shutter), khẩu độ (aperture), .v.v.\n",
    "3. Xử lý trong máy ảnh (In-Camera Processing): Gồm rất nhiều bước được mô tả chi tiết phía dưới\n",
    "4. Xử lý hậu kỳ (Post-Camera Processing): các công cụ xử lý ảnh hậu kỳ như Photoshop, Lighting Room, .v.v.\n",
    "\n",
    "Ánh sáng từ nguồn sáng phát ra sẽ chiếu tới cảnh vật. Cảnh vật sẽ hấp thụ một phần và phản xạ một phần ánh sáng về phía máy ảnh. Ánh sáng đi qua hệ thống lens, qua cửa sập rồi chiếu tới cảm biến photon trong máy ảnh. Tại đây diễn ra quá trình chuyển đổi từ thông tin tương tự sang dạng số (chi tiết sẽ được trình bày dưới đây). Ảnh số có thể trải qua một số công đoạn xử lý hậu kỳ như chỉnh sửa ảnh bằng Photoshop .v.v. Chi tiết các bước xử lý (2-4) sẽ được trình bày trong bài viết này\n",
    "\n",
    "![Camera Processing Pipeline](images/camera_pipeline_all.jpg \"Các bước xử lý khi chụp hình\" )\n"
   ]
  },
  {
   "cell_type": "markdown",
   "metadata": {},
   "source": [
    "Có thể một số bạn đã biết về hệ thống "
   ]
  },
  {
   "attachments": {},
   "cell_type": "markdown",
   "metadata": {},
   "source": [
    "## Reference\n",
    "[1] M. Brown, Understanding the In-Camera Image Processing Pipeline Tutorial, ppt, CVPR 2016"
   ]
  },
  {
   "cell_type": "code",
   "execution_count": null,
   "metadata": {
    "collapsed": true
   },
   "outputs": [],
   "source": []
  }
 ],
 "metadata": {
  "kernelspec": {
   "display_name": "Python 2",
   "language": "python",
   "name": "python2"
  },
  "language_info": {
   "codemirror_mode": {
    "name": "ipython",
    "version": 2
   },
   "file_extension": ".py",
   "mimetype": "text/x-python",
   "name": "python",
   "nbconvert_exporter": "python",
   "pygments_lexer": "ipython2",
   "version": "2.7.13"
  }
 },
 "nbformat": 4,
 "nbformat_minor": 2
}
